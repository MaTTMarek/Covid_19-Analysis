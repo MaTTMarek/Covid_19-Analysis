{
 "cells": [
  {
   "cell_type": "code",
   "execution_count": 1,
   "id": "7f140484",
   "metadata": {},
   "outputs": [],
   "source": [
    "# import libraries\n",
    "import pandas as pd\n",
    "import numpy as np\n",
    "import seaborn as sns\n",
    "import matplotlib\n",
    "import matplotlib.pyplot as plt\n",
    "import os\n",
    "import sklearn\n",
    "from sklearn.model_selection import train_test_split \n",
    "from sklearn.linear_model import LinearRegression\n",
    "from sklearn.metrics import mean_squared_error, r2_score"
   ]
  },
  {
   "cell_type": "code",
   "execution_count": 2,
   "id": "d53663d3",
   "metadata": {},
   "outputs": [],
   "source": [
    "# This option ensures that the graphs you create are displayed within the notebook without the need to \"call\" them specifically.\n",
    "\n",
    "%matplotlib inline"
   ]
  },
  {
   "cell_type": "code",
   "execution_count": 3,
   "id": "3843195c",
   "metadata": {},
   "outputs": [],
   "source": [
    "# import data set\n",
    "df= pd.read_csv(r'C:\\Users\\mateu\\Desktop\\CF\\6.0\\covid_19.csv')"
   ]
  },
  {
   "cell_type": "code",
   "execution_count": 4,
   "id": "c25f60e9",
   "metadata": {},
   "outputs": [
    {
     "data": {
      "text/plain": [
       "(155278, 44)"
      ]
     },
     "execution_count": 4,
     "metadata": {},
     "output_type": "execute_result"
    }
   ],
   "source": [
    "df.shape"
   ]
  },
  {
   "cell_type": "code",
   "execution_count": 4,
   "id": "df403dbc",
   "metadata": {},
   "outputs": [
    {
     "data": {
      "text/html": [
       "<div>\n",
       "<style scoped>\n",
       "    .dataframe tbody tr th:only-of-type {\n",
       "        vertical-align: middle;\n",
       "    }\n",
       "\n",
       "    .dataframe tbody tr th {\n",
       "        vertical-align: top;\n",
       "    }\n",
       "\n",
       "    .dataframe thead th {\n",
       "        text-align: right;\n",
       "    }\n",
       "</style>\n",
       "<table border=\"1\" class=\"dataframe\">\n",
       "  <thead>\n",
       "    <tr style=\"text-align: right;\">\n",
       "      <th></th>\n",
       "      <th>Unnamed: 0</th>\n",
       "      <th>iso_code</th>\n",
       "      <th>continent</th>\n",
       "      <th>location</th>\n",
       "      <th>date</th>\n",
       "      <th>total_cases</th>\n",
       "      <th>new_cases</th>\n",
       "      <th>new_cases_smoothed</th>\n",
       "      <th>total_deaths</th>\n",
       "      <th>new_deaths</th>\n",
       "      <th>...</th>\n",
       "      <th>aged_70_older</th>\n",
       "      <th>gdp_per_capita</th>\n",
       "      <th>cardiovasc_death_rate</th>\n",
       "      <th>diabetes_prevalence</th>\n",
       "      <th>female_smokers</th>\n",
       "      <th>male_smokers</th>\n",
       "      <th>handwashing_facilities</th>\n",
       "      <th>hospital_beds_per_thousand</th>\n",
       "      <th>life_expectancy</th>\n",
       "      <th>human_development_index</th>\n",
       "    </tr>\n",
       "  </thead>\n",
       "  <tbody>\n",
       "    <tr>\n",
       "      <th>0</th>\n",
       "      <td>0</td>\n",
       "      <td>AFG</td>\n",
       "      <td>Asia</td>\n",
       "      <td>Afghanistan</td>\n",
       "      <td>2020-02-24</td>\n",
       "      <td>5.0</td>\n",
       "      <td>5.0</td>\n",
       "      <td>11565.595138</td>\n",
       "      <td>57664.07353</td>\n",
       "      <td>171.137304</td>\n",
       "      <td>...</td>\n",
       "      <td>1.337</td>\n",
       "      <td>1803.987</td>\n",
       "      <td>597.029</td>\n",
       "      <td>9.59</td>\n",
       "      <td>10.627229</td>\n",
       "      <td>32.778221</td>\n",
       "      <td>37.746</td>\n",
       "      <td>0.5</td>\n",
       "      <td>64.83</td>\n",
       "      <td>0.511</td>\n",
       "    </tr>\n",
       "    <tr>\n",
       "      <th>1</th>\n",
       "      <td>1</td>\n",
       "      <td>AFG</td>\n",
       "      <td>Asia</td>\n",
       "      <td>Afghanistan</td>\n",
       "      <td>2020-02-25</td>\n",
       "      <td>5.0</td>\n",
       "      <td>0.0</td>\n",
       "      <td>11565.595138</td>\n",
       "      <td>57664.07353</td>\n",
       "      <td>171.137304</td>\n",
       "      <td>...</td>\n",
       "      <td>1.337</td>\n",
       "      <td>1803.987</td>\n",
       "      <td>597.029</td>\n",
       "      <td>9.59</td>\n",
       "      <td>10.627229</td>\n",
       "      <td>32.778221</td>\n",
       "      <td>37.746</td>\n",
       "      <td>0.5</td>\n",
       "      <td>64.83</td>\n",
       "      <td>0.511</td>\n",
       "    </tr>\n",
       "    <tr>\n",
       "      <th>2</th>\n",
       "      <td>2</td>\n",
       "      <td>AFG</td>\n",
       "      <td>Asia</td>\n",
       "      <td>Afghanistan</td>\n",
       "      <td>2020-02-26</td>\n",
       "      <td>5.0</td>\n",
       "      <td>0.0</td>\n",
       "      <td>11565.595138</td>\n",
       "      <td>57664.07353</td>\n",
       "      <td>171.137304</td>\n",
       "      <td>...</td>\n",
       "      <td>1.337</td>\n",
       "      <td>1803.987</td>\n",
       "      <td>597.029</td>\n",
       "      <td>9.59</td>\n",
       "      <td>10.627229</td>\n",
       "      <td>32.778221</td>\n",
       "      <td>37.746</td>\n",
       "      <td>0.5</td>\n",
       "      <td>64.83</td>\n",
       "      <td>0.511</td>\n",
       "    </tr>\n",
       "    <tr>\n",
       "      <th>3</th>\n",
       "      <td>3</td>\n",
       "      <td>AFG</td>\n",
       "      <td>Asia</td>\n",
       "      <td>Afghanistan</td>\n",
       "      <td>2020-02-27</td>\n",
       "      <td>5.0</td>\n",
       "      <td>0.0</td>\n",
       "      <td>11565.595138</td>\n",
       "      <td>57664.07353</td>\n",
       "      <td>171.137304</td>\n",
       "      <td>...</td>\n",
       "      <td>1.337</td>\n",
       "      <td>1803.987</td>\n",
       "      <td>597.029</td>\n",
       "      <td>9.59</td>\n",
       "      <td>10.627229</td>\n",
       "      <td>32.778221</td>\n",
       "      <td>37.746</td>\n",
       "      <td>0.5</td>\n",
       "      <td>64.83</td>\n",
       "      <td>0.511</td>\n",
       "    </tr>\n",
       "    <tr>\n",
       "      <th>4</th>\n",
       "      <td>4</td>\n",
       "      <td>AFG</td>\n",
       "      <td>Asia</td>\n",
       "      <td>Afghanistan</td>\n",
       "      <td>2020-02-28</td>\n",
       "      <td>5.0</td>\n",
       "      <td>0.0</td>\n",
       "      <td>11565.595138</td>\n",
       "      <td>57664.07353</td>\n",
       "      <td>171.137304</td>\n",
       "      <td>...</td>\n",
       "      <td>1.337</td>\n",
       "      <td>1803.987</td>\n",
       "      <td>597.029</td>\n",
       "      <td>9.59</td>\n",
       "      <td>10.627229</td>\n",
       "      <td>32.778221</td>\n",
       "      <td>37.746</td>\n",
       "      <td>0.5</td>\n",
       "      <td>64.83</td>\n",
       "      <td>0.511</td>\n",
       "    </tr>\n",
       "  </tbody>\n",
       "</table>\n",
       "<p>5 rows × 44 columns</p>\n",
       "</div>"
      ],
      "text/plain": [
       "   Unnamed: 0 iso_code continent     location        date  total_cases  \\\n",
       "0           0      AFG      Asia  Afghanistan  2020-02-24          5.0   \n",
       "1           1      AFG      Asia  Afghanistan  2020-02-25          5.0   \n",
       "2           2      AFG      Asia  Afghanistan  2020-02-26          5.0   \n",
       "3           3      AFG      Asia  Afghanistan  2020-02-27          5.0   \n",
       "4           4      AFG      Asia  Afghanistan  2020-02-28          5.0   \n",
       "\n",
       "   new_cases  new_cases_smoothed  total_deaths  new_deaths  ...  \\\n",
       "0        5.0        11565.595138   57664.07353  171.137304  ...   \n",
       "1        0.0        11565.595138   57664.07353  171.137304  ...   \n",
       "2        0.0        11565.595138   57664.07353  171.137304  ...   \n",
       "3        0.0        11565.595138   57664.07353  171.137304  ...   \n",
       "4        0.0        11565.595138   57664.07353  171.137304  ...   \n",
       "\n",
       "   aged_70_older  gdp_per_capita  cardiovasc_death_rate  diabetes_prevalence  \\\n",
       "0          1.337        1803.987                597.029                 9.59   \n",
       "1          1.337        1803.987                597.029                 9.59   \n",
       "2          1.337        1803.987                597.029                 9.59   \n",
       "3          1.337        1803.987                597.029                 9.59   \n",
       "4          1.337        1803.987                597.029                 9.59   \n",
       "\n",
       "   female_smokers  male_smokers  handwashing_facilities  \\\n",
       "0       10.627229     32.778221                  37.746   \n",
       "1       10.627229     32.778221                  37.746   \n",
       "2       10.627229     32.778221                  37.746   \n",
       "3       10.627229     32.778221                  37.746   \n",
       "4       10.627229     32.778221                  37.746   \n",
       "\n",
       "   hospital_beds_per_thousand  life_expectancy  human_development_index  \n",
       "0                         0.5            64.83                    0.511  \n",
       "1                         0.5            64.83                    0.511  \n",
       "2                         0.5            64.83                    0.511  \n",
       "3                         0.5            64.83                    0.511  \n",
       "4                         0.5            64.83                    0.511  \n",
       "\n",
       "[5 rows x 44 columns]"
      ]
     },
     "execution_count": 4,
     "metadata": {},
     "output_type": "execute_result"
    }
   ],
   "source": [
    "# check\n",
    "df.head()"
   ]
  },
  {
   "cell_type": "code",
   "execution_count": 5,
   "id": "1400d398",
   "metadata": {},
   "outputs": [
    {
     "data": {
      "text/html": [
       "<div>\n",
       "<style scoped>\n",
       "    .dataframe tbody tr th:only-of-type {\n",
       "        vertical-align: middle;\n",
       "    }\n",
       "\n",
       "    .dataframe tbody tr th {\n",
       "        vertical-align: top;\n",
       "    }\n",
       "\n",
       "    .dataframe thead th {\n",
       "        text-align: right;\n",
       "    }\n",
       "</style>\n",
       "<table border=\"1\" class=\"dataframe\">\n",
       "  <thead>\n",
       "    <tr style=\"text-align: right;\">\n",
       "      <th></th>\n",
       "      <th>Country_Code</th>\n",
       "      <th>continent</th>\n",
       "      <th>location</th>\n",
       "      <th>date</th>\n",
       "      <th>total_cases</th>\n",
       "      <th>new_cases</th>\n",
       "      <th>new_cases_smoothed</th>\n",
       "      <th>total_deaths</th>\n",
       "      <th>new_deaths</th>\n",
       "      <th>new_deaths_smoothed</th>\n",
       "      <th>...</th>\n",
       "      <th>aged_70_older</th>\n",
       "      <th>gdp_per_capita</th>\n",
       "      <th>cardiovasc_death_rate</th>\n",
       "      <th>diabetes_prevalence</th>\n",
       "      <th>female_smokers</th>\n",
       "      <th>male_smokers</th>\n",
       "      <th>handwashing_facilities</th>\n",
       "      <th>hospital_beds_per_thousand</th>\n",
       "      <th>life_expectancy</th>\n",
       "      <th>human_development_index</th>\n",
       "    </tr>\n",
       "  </thead>\n",
       "  <tbody>\n",
       "    <tr>\n",
       "      <th>0</th>\n",
       "      <td>AFG</td>\n",
       "      <td>Asia</td>\n",
       "      <td>Afghanistan</td>\n",
       "      <td>2020-02-24</td>\n",
       "      <td>5.0</td>\n",
       "      <td>5.0</td>\n",
       "      <td>11565.595138</td>\n",
       "      <td>57664.07353</td>\n",
       "      <td>171.137304</td>\n",
       "      <td>172.673031</td>\n",
       "      <td>...</td>\n",
       "      <td>1.337</td>\n",
       "      <td>1803.987</td>\n",
       "      <td>597.029</td>\n",
       "      <td>9.59</td>\n",
       "      <td>10.627229</td>\n",
       "      <td>32.778221</td>\n",
       "      <td>37.746</td>\n",
       "      <td>0.5</td>\n",
       "      <td>64.83</td>\n",
       "      <td>0.511</td>\n",
       "    </tr>\n",
       "    <tr>\n",
       "      <th>1</th>\n",
       "      <td>AFG</td>\n",
       "      <td>Asia</td>\n",
       "      <td>Afghanistan</td>\n",
       "      <td>2020-02-25</td>\n",
       "      <td>5.0</td>\n",
       "      <td>0.0</td>\n",
       "      <td>11565.595138</td>\n",
       "      <td>57664.07353</td>\n",
       "      <td>171.137304</td>\n",
       "      <td>172.673031</td>\n",
       "      <td>...</td>\n",
       "      <td>1.337</td>\n",
       "      <td>1803.987</td>\n",
       "      <td>597.029</td>\n",
       "      <td>9.59</td>\n",
       "      <td>10.627229</td>\n",
       "      <td>32.778221</td>\n",
       "      <td>37.746</td>\n",
       "      <td>0.5</td>\n",
       "      <td>64.83</td>\n",
       "      <td>0.511</td>\n",
       "    </tr>\n",
       "    <tr>\n",
       "      <th>2</th>\n",
       "      <td>AFG</td>\n",
       "      <td>Asia</td>\n",
       "      <td>Afghanistan</td>\n",
       "      <td>2020-02-26</td>\n",
       "      <td>5.0</td>\n",
       "      <td>0.0</td>\n",
       "      <td>11565.595138</td>\n",
       "      <td>57664.07353</td>\n",
       "      <td>171.137304</td>\n",
       "      <td>172.673031</td>\n",
       "      <td>...</td>\n",
       "      <td>1.337</td>\n",
       "      <td>1803.987</td>\n",
       "      <td>597.029</td>\n",
       "      <td>9.59</td>\n",
       "      <td>10.627229</td>\n",
       "      <td>32.778221</td>\n",
       "      <td>37.746</td>\n",
       "      <td>0.5</td>\n",
       "      <td>64.83</td>\n",
       "      <td>0.511</td>\n",
       "    </tr>\n",
       "    <tr>\n",
       "      <th>3</th>\n",
       "      <td>AFG</td>\n",
       "      <td>Asia</td>\n",
       "      <td>Afghanistan</td>\n",
       "      <td>2020-02-27</td>\n",
       "      <td>5.0</td>\n",
       "      <td>0.0</td>\n",
       "      <td>11565.595138</td>\n",
       "      <td>57664.07353</td>\n",
       "      <td>171.137304</td>\n",
       "      <td>172.673031</td>\n",
       "      <td>...</td>\n",
       "      <td>1.337</td>\n",
       "      <td>1803.987</td>\n",
       "      <td>597.029</td>\n",
       "      <td>9.59</td>\n",
       "      <td>10.627229</td>\n",
       "      <td>32.778221</td>\n",
       "      <td>37.746</td>\n",
       "      <td>0.5</td>\n",
       "      <td>64.83</td>\n",
       "      <td>0.511</td>\n",
       "    </tr>\n",
       "    <tr>\n",
       "      <th>4</th>\n",
       "      <td>AFG</td>\n",
       "      <td>Asia</td>\n",
       "      <td>Afghanistan</td>\n",
       "      <td>2020-02-28</td>\n",
       "      <td>5.0</td>\n",
       "      <td>0.0</td>\n",
       "      <td>11565.595138</td>\n",
       "      <td>57664.07353</td>\n",
       "      <td>171.137304</td>\n",
       "      <td>172.673031</td>\n",
       "      <td>...</td>\n",
       "      <td>1.337</td>\n",
       "      <td>1803.987</td>\n",
       "      <td>597.029</td>\n",
       "      <td>9.59</td>\n",
       "      <td>10.627229</td>\n",
       "      <td>32.778221</td>\n",
       "      <td>37.746</td>\n",
       "      <td>0.5</td>\n",
       "      <td>64.83</td>\n",
       "      <td>0.511</td>\n",
       "    </tr>\n",
       "  </tbody>\n",
       "</table>\n",
       "<p>5 rows × 43 columns</p>\n",
       "</div>"
      ],
      "text/plain": [
       "  Country_Code continent     location        date  total_cases  new_cases  \\\n",
       "0          AFG      Asia  Afghanistan  2020-02-24          5.0        5.0   \n",
       "1          AFG      Asia  Afghanistan  2020-02-25          5.0        0.0   \n",
       "2          AFG      Asia  Afghanistan  2020-02-26          5.0        0.0   \n",
       "3          AFG      Asia  Afghanistan  2020-02-27          5.0        0.0   \n",
       "4          AFG      Asia  Afghanistan  2020-02-28          5.0        0.0   \n",
       "\n",
       "   new_cases_smoothed  total_deaths  new_deaths  new_deaths_smoothed  ...  \\\n",
       "0        11565.595138   57664.07353  171.137304           172.673031  ...   \n",
       "1        11565.595138   57664.07353  171.137304           172.673031  ...   \n",
       "2        11565.595138   57664.07353  171.137304           172.673031  ...   \n",
       "3        11565.595138   57664.07353  171.137304           172.673031  ...   \n",
       "4        11565.595138   57664.07353  171.137304           172.673031  ...   \n",
       "\n",
       "   aged_70_older  gdp_per_capita  cardiovasc_death_rate  diabetes_prevalence  \\\n",
       "0          1.337        1803.987                597.029                 9.59   \n",
       "1          1.337        1803.987                597.029                 9.59   \n",
       "2          1.337        1803.987                597.029                 9.59   \n",
       "3          1.337        1803.987                597.029                 9.59   \n",
       "4          1.337        1803.987                597.029                 9.59   \n",
       "\n",
       "   female_smokers  male_smokers  handwashing_facilities  \\\n",
       "0       10.627229     32.778221                  37.746   \n",
       "1       10.627229     32.778221                  37.746   \n",
       "2       10.627229     32.778221                  37.746   \n",
       "3       10.627229     32.778221                  37.746   \n",
       "4       10.627229     32.778221                  37.746   \n",
       "\n",
       "   hospital_beds_per_thousand  life_expectancy  human_development_index  \n",
       "0                         0.5            64.83                    0.511  \n",
       "1                         0.5            64.83                    0.511  \n",
       "2                         0.5            64.83                    0.511  \n",
       "3                         0.5            64.83                    0.511  \n",
       "4                         0.5            64.83                    0.511  \n",
       "\n",
       "[5 rows x 43 columns]"
      ]
     },
     "execution_count": 5,
     "metadata": {},
     "output_type": "execute_result"
    }
   ],
   "source": [
    "# renaming column\n",
    "df.rename(columns= {'iso_code':'Country_Code'},inplace=True)\n",
    "# droping column\n",
    "df.drop(['Unnamed: 0'],axis=1,inplace=True)\n",
    "# check\n",
    "df.head()"
   ]
  },
  {
   "cell_type": "code",
   "execution_count": 6,
   "id": "cb6c2234",
   "metadata": {},
   "outputs": [],
   "source": [
    "# creating subset to save memory and time\n",
    "df1 = df[['Country_Code','continent','location','total_cases','new_cases','total_deaths','population']]"
   ]
  },
  {
   "cell_type": "code",
   "execution_count": 7,
   "id": "b419f154",
   "metadata": {},
   "outputs": [
    {
     "name": "stderr",
     "output_type": "stream",
     "text": [
      "C:\\Users\\mateu\\anaconda3\\lib\\site-packages\\pandas\\core\\frame.py:3641: SettingWithCopyWarning: \n",
      "A value is trying to be set on a copy of a slice from a DataFrame.\n",
      "Try using .loc[row_indexer,col_indexer] = value instead\n",
      "\n",
      "See the caveats in the documentation: https://pandas.pydata.org/pandas-docs/stable/user_guide/indexing.html#returning-a-view-versus-a-copy\n",
      "  self[k1] = value[k2]\n"
     ]
    },
    {
     "data": {
      "text/html": [
       "<div>\n",
       "<style scoped>\n",
       "    .dataframe tbody tr th:only-of-type {\n",
       "        vertical-align: middle;\n",
       "    }\n",
       "\n",
       "    .dataframe tbody tr th {\n",
       "        vertical-align: top;\n",
       "    }\n",
       "\n",
       "    .dataframe thead th {\n",
       "        text-align: right;\n",
       "    }\n",
       "</style>\n",
       "<table border=\"1\" class=\"dataframe\">\n",
       "  <thead>\n",
       "    <tr style=\"text-align: right;\">\n",
       "      <th></th>\n",
       "      <th>Country_Code</th>\n",
       "      <th>continent</th>\n",
       "      <th>location</th>\n",
       "      <th>total_cases</th>\n",
       "      <th>new_cases</th>\n",
       "      <th>total_deaths</th>\n",
       "      <th>population</th>\n",
       "    </tr>\n",
       "  </thead>\n",
       "  <tbody>\n",
       "    <tr>\n",
       "      <th>0</th>\n",
       "      <td>AFG</td>\n",
       "      <td>Asia</td>\n",
       "      <td>Afghanistan</td>\n",
       "      <td>5</td>\n",
       "      <td>5</td>\n",
       "      <td>57664</td>\n",
       "      <td>39835428</td>\n",
       "    </tr>\n",
       "    <tr>\n",
       "      <th>1</th>\n",
       "      <td>AFG</td>\n",
       "      <td>Asia</td>\n",
       "      <td>Afghanistan</td>\n",
       "      <td>5</td>\n",
       "      <td>0</td>\n",
       "      <td>57664</td>\n",
       "      <td>39835428</td>\n",
       "    </tr>\n",
       "    <tr>\n",
       "      <th>2</th>\n",
       "      <td>AFG</td>\n",
       "      <td>Asia</td>\n",
       "      <td>Afghanistan</td>\n",
       "      <td>5</td>\n",
       "      <td>0</td>\n",
       "      <td>57664</td>\n",
       "      <td>39835428</td>\n",
       "    </tr>\n",
       "    <tr>\n",
       "      <th>3</th>\n",
       "      <td>AFG</td>\n",
       "      <td>Asia</td>\n",
       "      <td>Afghanistan</td>\n",
       "      <td>5</td>\n",
       "      <td>0</td>\n",
       "      <td>57664</td>\n",
       "      <td>39835428</td>\n",
       "    </tr>\n",
       "    <tr>\n",
       "      <th>4</th>\n",
       "      <td>AFG</td>\n",
       "      <td>Asia</td>\n",
       "      <td>Afghanistan</td>\n",
       "      <td>5</td>\n",
       "      <td>0</td>\n",
       "      <td>57664</td>\n",
       "      <td>39835428</td>\n",
       "    </tr>\n",
       "  </tbody>\n",
       "</table>\n",
       "</div>"
      ],
      "text/plain": [
       "  Country_Code continent     location  total_cases  new_cases  total_deaths  \\\n",
       "0          AFG      Asia  Afghanistan            5          5         57664   \n",
       "1          AFG      Asia  Afghanistan            5          0         57664   \n",
       "2          AFG      Asia  Afghanistan            5          0         57664   \n",
       "3          AFG      Asia  Afghanistan            5          0         57664   \n",
       "4          AFG      Asia  Afghanistan            5          0         57664   \n",
       "\n",
       "   population  \n",
       "0    39835428  \n",
       "1    39835428  \n",
       "2    39835428  \n",
       "3    39835428  \n",
       "4    39835428  "
      ]
     },
     "execution_count": 7,
     "metadata": {},
     "output_type": "execute_result"
    }
   ],
   "source": [
    "# changing data type\n",
    "df1[['total_cases','new_cases','total_deaths','population']] = df1[['total_cases','new_cases','total_deaths','population']].astype('int64')\n",
    "# check\n",
    "df1.head()\n"
   ]
  },
  {
   "cell_type": "code",
   "execution_count": 8,
   "id": "9d4e3d39",
   "metadata": {},
   "outputs": [
    {
     "data": {
      "text/html": [
       "<div>\n",
       "<style scoped>\n",
       "    .dataframe tbody tr th:only-of-type {\n",
       "        vertical-align: middle;\n",
       "    }\n",
       "\n",
       "    .dataframe tbody tr th {\n",
       "        vertical-align: top;\n",
       "    }\n",
       "\n",
       "    .dataframe thead th {\n",
       "        text-align: right;\n",
       "    }\n",
       "</style>\n",
       "<table border=\"1\" class=\"dataframe\">\n",
       "  <thead>\n",
       "    <tr style=\"text-align: right;\">\n",
       "      <th></th>\n",
       "      <th>total_cases</th>\n",
       "      <th>new_cases</th>\n",
       "      <th>total_deaths</th>\n",
       "      <th>population</th>\n",
       "    </tr>\n",
       "  </thead>\n",
       "  <tbody>\n",
       "    <tr>\n",
       "      <th>count</th>\n",
       "      <td>1.552780e+05</td>\n",
       "      <td>1.552780e+05</td>\n",
       "      <td>155278.000000</td>\n",
       "      <td>1.552780e+05</td>\n",
       "    </tr>\n",
       "    <tr>\n",
       "      <th>mean</th>\n",
       "      <td>6.806585e+05</td>\n",
       "      <td>3.073286e+03</td>\n",
       "      <td>20461.413516</td>\n",
       "      <td>3.794377e+07</td>\n",
       "    </tr>\n",
       "    <tr>\n",
       "      <th>std</th>\n",
       "      <td>3.191948e+06</td>\n",
       "      <td>1.785251e+04</td>\n",
       "      <td>57225.221856</td>\n",
       "      <td>1.458631e+08</td>\n",
       "    </tr>\n",
       "    <tr>\n",
       "      <th>min</th>\n",
       "      <td>1.000000e+00</td>\n",
       "      <td>0.000000e+00</td>\n",
       "      <td>1.000000</td>\n",
       "      <td>4.700000e+01</td>\n",
       "    </tr>\n",
       "    <tr>\n",
       "      <th>25%</th>\n",
       "      <td>1.882000e+03</td>\n",
       "      <td>1.000000e+00</td>\n",
       "      <td>98.000000</td>\n",
       "      <td>8.903432e+05</td>\n",
       "    </tr>\n",
       "    <tr>\n",
       "      <th>50%</th>\n",
       "      <td>2.315300e+04</td>\n",
       "      <td>6.900000e+01</td>\n",
       "      <td>1203.000000</td>\n",
       "      <td>6.871547e+06</td>\n",
       "    </tr>\n",
       "    <tr>\n",
       "      <th>75%</th>\n",
       "      <td>2.568158e+05</td>\n",
       "      <td>8.760000e+02</td>\n",
       "      <td>16042.000000</td>\n",
       "      <td>2.578822e+07</td>\n",
       "    </tr>\n",
       "    <tr>\n",
       "      <th>max</th>\n",
       "      <td>7.926573e+07</td>\n",
       "      <td>1.368167e+06</td>\n",
       "      <td>958437.000000</td>\n",
       "      <td>1.444216e+09</td>\n",
       "    </tr>\n",
       "  </tbody>\n",
       "</table>\n",
       "</div>"
      ],
      "text/plain": [
       "        total_cases     new_cases   total_deaths    population\n",
       "count  1.552780e+05  1.552780e+05  155278.000000  1.552780e+05\n",
       "mean   6.806585e+05  3.073286e+03   20461.413516  3.794377e+07\n",
       "std    3.191948e+06  1.785251e+04   57225.221856  1.458631e+08\n",
       "min    1.000000e+00  0.000000e+00       1.000000  4.700000e+01\n",
       "25%    1.882000e+03  1.000000e+00      98.000000  8.903432e+05\n",
       "50%    2.315300e+04  6.900000e+01    1203.000000  6.871547e+06\n",
       "75%    2.568158e+05  8.760000e+02   16042.000000  2.578822e+07\n",
       "max    7.926573e+07  1.368167e+06  958437.000000  1.444216e+09"
      ]
     },
     "execution_count": 8,
     "metadata": {},
     "output_type": "execute_result"
    }
   ],
   "source": [
    "# looking for odd values\n",
    "df1.describe()"
   ]
  },
  {
   "cell_type": "code",
   "execution_count": 9,
   "id": "c0783492",
   "metadata": {},
   "outputs": [
    {
     "data": {
      "text/plain": [
       "Country_Code                             0\n",
       "continent                                0\n",
       "location                                 0\n",
       "date                                     0\n",
       "total_cases                              0\n",
       "new_cases                                0\n",
       "new_cases_smoothed                       0\n",
       "total_deaths                             0\n",
       "new_deaths                               0\n",
       "new_deaths_smoothed                      0\n",
       "total_cases_per_million                  0\n",
       "new_cases_per_million                    0\n",
       "total_deaths_per_million                 0\n",
       "new_deaths_per_million                   0\n",
       "reproduction_rate                        0\n",
       "new_tests_per_thousand                   0\n",
       "positive_rate                            0\n",
       "tests_per_case                           0\n",
       "total_vaccinations                       0\n",
       "people_vaccinated                        0\n",
       "people_fully_vaccinated                  0\n",
       "total_boosters                           0\n",
       "new_vaccinations                         0\n",
       "total_vaccinations_per_hundred           0\n",
       "people_vaccinated_per_hundred            0\n",
       "people_fully_vaccinated_per_hundred      0\n",
       "new_vaccinations_smoothed_per_million    0\n",
       "new_people_vaccinated_smoothed           0\n",
       "stringency_index                         0\n",
       "population                               0\n",
       "population_density                       0\n",
       "median_age                               0\n",
       "aged_65_older                            0\n",
       "aged_70_older                            0\n",
       "gdp_per_capita                           0\n",
       "cardiovasc_death_rate                    0\n",
       "diabetes_prevalence                      0\n",
       "female_smokers                           0\n",
       "male_smokers                             0\n",
       "handwashing_facilities                   0\n",
       "hospital_beds_per_thousand               0\n",
       "life_expectancy                          0\n",
       "human_development_index                  0\n",
       "dtype: int64"
      ]
     },
     "execution_count": 9,
     "metadata": {},
     "output_type": "execute_result"
    }
   ],
   "source": [
    "# Check for missing values, This already has been done in previous exercise\n",
    "df.isnull().sum()"
   ]
  },
  {
   "cell_type": "markdown",
   "id": "d5b4452f",
   "metadata": {},
   "source": [
    "##### Extreme values check"
   ]
  },
  {
   "cell_type": "code",
   "execution_count": 22,
   "id": "0e7b24ae",
   "metadata": {},
   "outputs": [
    {
     "name": "stderr",
     "output_type": "stream",
     "text": [
      "C:\\Users\\mateu\\anaconda3\\lib\\site-packages\\seaborn\\distributions.py:2619: FutureWarning: `distplot` is a deprecated function and will be removed in a future version. Please adapt your code to use either `displot` (a figure-level function with similar flexibility) or `histplot` (an axes-level function for histograms).\n",
      "  warnings.warn(msg, FutureWarning)\n"
     ]
    },
    {
     "data": {
      "text/plain": [
       "<AxesSubplot:xlabel='total_cases', ylabel='Density'>"
      ]
     },
     "execution_count": 22,
     "metadata": {},
     "output_type": "execute_result"
    },
    {
     "data": {
      "image/png": "[encoded data removed]",
      "text/plain": [
       "<Figure size 432x288 with 1 Axes>"
      ]
     },
     "metadata": {
      "needs_background": "light"
     },
     "output_type": "display_data"
    }
   ],
   "source": [
    "\n",
    "sns.distplot(df['total_cases'], bins=25) "
   ]
  },
  {
   "cell_type": "code",
   "execution_count": 37,
   "id": "da899149",
   "metadata": {},
   "outputs": [
    {
     "name": "stderr",
     "output_type": "stream",
     "text": [
      "C:\\Users\\mateu\\anaconda3\\lib\\site-packages\\seaborn\\distributions.py:2619: FutureWarning: `distplot` is a deprecated function and will be removed in a future version. Please adapt your code to use either `displot` (a figure-level function with similar flexibility) or `histplot` (an axes-level function for histograms).\n",
      "  warnings.warn(msg, FutureWarning)\n"
     ]
    },
    {
     "data": {
      "text/plain": [
       "<AxesSubplot:xlabel='new_cases', ylabel='Density'>"
      ]
     },
     "execution_count": 37,
     "metadata": {},
     "output_type": "execute_result"
    },
    {
     "data": {
      "image/png": "[encoded data removed]",
      "text/plain": [
       "<Figure size 432x288 with 1 Axes>"
      ]
     },
     "metadata": {
      "needs_background": "light"
     },
     "output_type": "display_data"
    }
   ],
   "source": [
    "sns.distplot(df['new_cases'],bins=25)"
   ]
  },
  {
   "cell_type": "code",
   "execution_count": 38,
   "id": "b1e67862",
   "metadata": {},
   "outputs": [
    {
     "name": "stderr",
     "output_type": "stream",
     "text": [
      "C:\\Users\\mateu\\anaconda3\\lib\\site-packages\\seaborn\\distributions.py:2619: FutureWarning: `distplot` is a deprecated function and will be removed in a future version. Please adapt your code to use either `displot` (a figure-level function with similar flexibility) or `histplot` (an axes-level function for histograms).\n",
      "  warnings.warn(msg, FutureWarning)\n"
     ]
    },
    {
     "data": {
      "text/plain": [
       "<AxesSubplot:xlabel='total_deaths', ylabel='Density'>"
      ]
     },
     "execution_count": 38,
     "metadata": {},
     "output_type": "execute_result"
    },
    {
     "data": {
      "image/png": "[encoded data removed]",
      "text/plain": [
       "<Figure size 432x288 with 1 Axes>"
      ]
     },
     "metadata": {
      "needs_background": "light"
     },
     "output_type": "display_data"
    }
   ],
   "source": [
    "sns.distplot(df['total_deaths'],bins=25)"
   ]
  },
  {
   "cell_type": "code",
   "execution_count": 25,
   "id": "46fca69c",
   "metadata": {},
   "outputs": [
    {
     "data": {
      "text/plain": [
       "680658.5368435966"
      ]
     },
     "execution_count": 25,
     "metadata": {},
     "output_type": "execute_result"
    }
   ],
   "source": [
    "# Check the mean\n",
    "df1['total_cases'].mean()"
   ]
  },
  {
   "cell_type": "code",
   "execution_count": 26,
   "id": "52903e16",
   "metadata": {},
   "outputs": [
    {
     "data": {
      "text/plain": [
       "(23153.0,)"
      ]
     },
     "execution_count": 26,
     "metadata": {},
     "output_type": "execute_result"
    }
   ],
   "source": [
    "# Check the median\n",
    "df1['total_cases'].median(),"
   ]
  },
  {
   "cell_type": "code",
   "execution_count": 27,
   "id": "c68ae3d8",
   "metadata": {},
   "outputs": [
    {
     "data": {
      "text/plain": [
       "79265726"
      ]
     },
     "execution_count": 27,
     "metadata": {},
     "output_type": "execute_result"
    }
   ],
   "source": [
    "# Check the max\n",
    "df1['total_cases'].max() # Check the max"
   ]
  },
  {
   "cell_type": "code",
   "execution_count": 28,
   "id": "48460474",
   "metadata": {},
   "outputs": [
    {
     "data": {
      "text/plain": [
       "3073.2857004855805"
      ]
     },
     "execution_count": 28,
     "metadata": {},
     "output_type": "execute_result"
    }
   ],
   "source": [
    "# Check the mean in new_cases column\n",
    "df1['new_cases'].mean()"
   ]
  },
  {
   "cell_type": "code",
   "execution_count": 29,
   "id": "b78049ec",
   "metadata": {},
   "outputs": [
    {
     "data": {
      "text/plain": [
       "69.0"
      ]
     },
     "execution_count": 29,
     "metadata": {},
     "output_type": "execute_result"
    }
   ],
   "source": [
    "# Check the median in new_cases column\n",
    "df1['new_cases'].median()"
   ]
  },
  {
   "cell_type": "code",
   "execution_count": 30,
   "id": "e0bb5467",
   "metadata": {},
   "outputs": [
    {
     "data": {
      "text/plain": [
       "1368167"
      ]
     },
     "execution_count": 30,
     "metadata": {},
     "output_type": "execute_result"
    }
   ],
   "source": [
    "# Check the median in new_cases column\n",
    "df1['new_cases'].max()"
   ]
  },
  {
   "cell_type": "code",
   "execution_count": 32,
   "id": "2db89d88",
   "metadata": {},
   "outputs": [
    {
     "data": {
      "text/plain": [
       "20461.413516402838"
      ]
     },
     "execution_count": 32,
     "metadata": {},
     "output_type": "execute_result"
    }
   ],
   "source": [
    "# Check the mean in total_deaths column\n",
    "df1['total_deaths'].mean()"
   ]
  },
  {
   "cell_type": "code",
   "execution_count": 33,
   "id": "47100e1e",
   "metadata": {},
   "outputs": [
    {
     "data": {
      "text/plain": [
       "1203.0"
      ]
     },
     "execution_count": 33,
     "metadata": {},
     "output_type": "execute_result"
    }
   ],
   "source": [
    "# Check the median in total_deaths column\n",
    "df1['total_deaths'].median()"
   ]
  },
  {
   "cell_type": "code",
   "execution_count": 34,
   "id": "a232aab8",
   "metadata": {},
   "outputs": [
    {
     "data": {
      "text/plain": [
       "958437"
      ]
     },
     "execution_count": 34,
     "metadata": {},
     "output_type": "execute_result"
    }
   ],
   "source": [
    "# Check the median in total_deaths column\n",
    "df1['total_deaths'].max()"
   ]
  },
  {
   "cell_type": "markdown",
   "id": "22af8395",
   "metadata": {},
   "source": [
    "### Data prep for regression analysis"
   ]
  },
  {
   "cell_type": "code",
   "execution_count": 47,
   "id": "24655060",
   "metadata": {},
   "outputs": [
    {
     "data": {
      "image/png": "[encoded data removed]",
      "text/plain": [
       "<Figure size 432x288 with 1 Axes>"
      ]
     },
     "metadata": {
      "needs_background": "light"
     },
     "output_type": "display_data"
    }
   ],
   "source": [
    "# Create a scatterplot using matplotlib for another look at how the chosen variables plot against each other.\n",
    "# 1. Population vs total_cases\n",
    "df1.plot(x = 'total_cases', y='population',style='r+')\n",
    "plt.title('Population vs total_cases')  \n",
    "plt.xlabel('total_cases')  \n",
    "plt.ylabel('Population')  \n",
    "plt.show()"
   ]
  },
  {
   "cell_type": "code",
   "execution_count": 46,
   "id": "9e419209",
   "metadata": {},
   "outputs": [
    {
     "data": {
      "image/png": "[encoded data removed]",
      "text/plain": [
       "<Figure size 432x288 with 1 Axes>"
      ]
     },
     "metadata": {
      "needs_background": "light"
     },
     "output_type": "display_data"
    }
   ],
   "source": [
    "# 2. Population vs new_cases\n",
    "df1.plot(x = 'new_cases', y='population',style='r+')\n",
    "plt.title('Population vs New_cases')  \n",
    "plt.xlabel('new_cases')  \n",
    "plt.ylabel('Population')  \n",
    "plt.show()"
   ]
  },
  {
   "cell_type": "code",
   "execution_count": 45,
   "id": "0bf284c8",
   "metadata": {},
   "outputs": [
    {
     "data": {
      "image/png": "[encoded data removed]",
      "text/plain": [
       "<Figure size 432x288 with 1 Axes>"
      ]
     },
     "metadata": {
      "needs_background": "light"
     },
     "output_type": "display_data"
    }
   ],
   "source": [
    "# 2. Population vs total_deaths\n",
    "df1.plot(x = 'total_deaths', y='population',style='r+')\n",
    "plt.title('Population vs Total_deaths')  \n",
    "plt.xlabel('total_deaths')  \n",
    "plt.ylabel('Population')  \n",
    "plt.show()"
   ]
  },
  {
   "cell_type": "markdown",
   "id": "e5ae1b15",
   "metadata": {},
   "source": [
    "#### Hypothesis: The higher the population, the higher the number of cases is\n"
   ]
  },
  {
   "cell_type": "code",
   "execution_count": 29,
   "id": "5aeb5c29",
   "metadata": {},
   "outputs": [],
   "source": [
    "# Reshape the variables into NumPy arrays and put them into separate objects.\n",
    "\n",
    "X = df1['population'].values.reshape(-1,1) # independent variable\n",
    "Y = df1['total_cases'].values.reshape(-1,1)# dependent variable"
   ]
  },
  {
   "cell_type": "code",
   "execution_count": 30,
   "id": "070b001d",
   "metadata": {},
   "outputs": [
    {
     "data": {
      "text/plain": [
       "array([[39835428],\n",
       "       [39835428],\n",
       "       [39835428],\n",
       "       ...,\n",
       "       [15092171],\n",
       "       [15092171],\n",
       "       [15092171]], dtype=int64)"
      ]
     },
     "execution_count": 30,
     "metadata": {},
     "output_type": "execute_result"
    }
   ],
   "source": [
    "# check\n",
    "X"
   ]
  },
  {
   "cell_type": "code",
   "execution_count": 31,
   "id": "299b7504",
   "metadata": {},
   "outputs": [
    {
     "data": {
      "text/plain": [
       "array([[     5],\n",
       "       [     5],\n",
       "       [     5],\n",
       "       ...,\n",
       "       [237503],\n",
       "       [238739],\n",
       "       [239019]], dtype=int64)"
      ]
     },
     "execution_count": 31,
     "metadata": {},
     "output_type": "execute_result"
    }
   ],
   "source": [
    "# check\n",
    "Y"
   ]
  },
  {
   "cell_type": "code",
   "execution_count": 32,
   "id": "e204a6c1",
   "metadata": {},
   "outputs": [],
   "source": [
    "# Reshape the variables into NumPy arrays and put them into separate objects.\n",
    "\n",
    "Xx = df1['population'].values.reshape(-1,1)\n",
    "Yy = df1['new_cases'].values.reshape(-1,1)"
   ]
  },
  {
   "cell_type": "code",
   "execution_count": 33,
   "id": "3890ac4c",
   "metadata": {},
   "outputs": [
    {
     "data": {
      "text/plain": [
       "array([[39835428],\n",
       "       [39835428],\n",
       "       [39835428],\n",
       "       ...,\n",
       "       [15092171],\n",
       "       [15092171],\n",
       "       [15092171]], dtype=int64)"
      ]
     },
     "execution_count": 33,
     "metadata": {},
     "output_type": "execute_result"
    }
   ],
   "source": [
    "Xx"
   ]
  },
  {
   "cell_type": "code",
   "execution_count": 34,
   "id": "7c4e6682",
   "metadata": {},
   "outputs": [
    {
     "data": {
      "text/plain": [
       "array([[     5],\n",
       "       [     5],\n",
       "       [     5],\n",
       "       ...,\n",
       "       [237503],\n",
       "       [238739],\n",
       "       [239019]], dtype=int64)"
      ]
     },
     "execution_count": 34,
     "metadata": {},
     "output_type": "execute_result"
    }
   ],
   "source": [
    "Yy"
   ]
  },
  {
   "cell_type": "code",
   "execution_count": 35,
   "id": "5a9cc0ad",
   "metadata": {},
   "outputs": [],
   "source": [
    "# Reshape the variables into NumPy arrays and put them into separate objects.\n",
    "\n",
    "Xxx = df1['population'].values.reshape(-1,1)\n",
    "Yyy = df1['total_deaths'].values.reshape(-1,1)"
   ]
  },
  {
   "cell_type": "code",
   "execution_count": 36,
   "id": "d4cb9097",
   "metadata": {},
   "outputs": [
    {
     "data": {
      "text/plain": [
       "array([[39835428],\n",
       "       [39835428],\n",
       "       [39835428],\n",
       "       ...,\n",
       "       [15092171],\n",
       "       [15092171],\n",
       "       [15092171]], dtype=int64)"
      ]
     },
     "execution_count": 36,
     "metadata": {},
     "output_type": "execute_result"
    }
   ],
   "source": [
    "Xxx"
   ]
  },
  {
   "cell_type": "code",
   "execution_count": 37,
   "id": "79d4dd29",
   "metadata": {},
   "outputs": [
    {
     "data": {
      "text/plain": [
       "array([[57664],\n",
       "       [57664],\n",
       "       [57664],\n",
       "       ...,\n",
       "       [ 5396],\n",
       "       [ 5397],\n",
       "       [ 5397]], dtype=int64)"
      ]
     },
     "execution_count": 37,
     "metadata": {},
     "output_type": "execute_result"
    }
   ],
   "source": [
    "Yyy"
   ]
  },
  {
   "cell_type": "code",
   "execution_count": 38,
   "id": "acb8f024",
   "metadata": {},
   "outputs": [],
   "source": [
    "# Split data into a training set and a test set.\n",
    "\n",
    "X_train, X_test, Y_train, Y_test = train_test_split(X, Y, test_size=0.3, random_state=0)"
   ]
  },
  {
   "cell_type": "code",
   "execution_count": 39,
   "id": "5f43eea4",
   "metadata": {},
   "outputs": [],
   "source": [
    "# Split data into a training set and a test set.\n",
    "Xx_train, Xx_test, Yy_train, Yy_test = train_test_split(Xx, Yy, test_size=0.3, random_state=0)"
   ]
  },
  {
   "cell_type": "code",
   "execution_count": 40,
   "id": "8f760dc0",
   "metadata": {},
   "outputs": [],
   "source": [
    "# Split data into a training set and a test set.\n",
    "Xxx_train, Xxx_test, Yyy_train, Yyy_test = train_test_split(Xxx, Yyy, test_size=0.3, random_state=0)"
   ]
  },
  {
   "cell_type": "markdown",
   "id": "1e8c86c5",
   "metadata": {},
   "source": [
    "####  Regression analysis"
   ]
  },
  {
   "cell_type": "code",
   "execution_count": 41,
   "id": "826c29a0",
   "metadata": {},
   "outputs": [],
   "source": [
    "# Create a regression object.\n",
    "\n",
    "regression = LinearRegression()  # This is the regression object, which will be fit onto the training set."
   ]
  },
  {
   "cell_type": "code",
   "execution_count": 42,
   "id": "3feba2bb",
   "metadata": {},
   "outputs": [
    {
     "data": {
      "text/plain": [
       "LinearRegression()"
      ]
     },
     "execution_count": 42,
     "metadata": {},
     "output_type": "execute_result"
    }
   ],
   "source": [
    "# Fit the regression object onto the training set.\n",
    "\n",
    "regression.fit(X_train, Y_train)"
   ]
  },
  {
   "cell_type": "code",
   "execution_count": 43,
   "id": "08678385",
   "metadata": {},
   "outputs": [],
   "source": [
    "# Predict the values of y using X.\n",
    "\n",
    "Y_predicted = regression.predict(X_test)"
   ]
  },
  {
   "cell_type": "code",
   "execution_count": 44,
   "id": "f887492b",
   "metadata": {},
   "outputs": [
    {
     "data": {
      "image/png": "[encoded data removed]",
      "text/plain": [
       "<Figure size 432x288 with 1 Axes>"
      ]
     },
     "metadata": {
      "needs_background": "light"
     },
     "output_type": "display_data"
    }
   ],
   "source": [
    "# Create a plot that shows the regression line from the model on the test set.\n",
    "\n",
    "plot_test = plt\n",
    "plot_test.scatter(X_test, Y_test, color='gray', s = 15)\n",
    "plot_test.plot(X_test, Y_predicted, color='red', linewidth =3)\n",
    "plot_test.title('Population vs. Total_cases(Test set)')\n",
    "plot_test.xlabel('population') # independent variable\n",
    "plot_test.ylabel('total_cases') # dependent variable\n",
    "plot_test.show()"
   ]
  },
  {
   "cell_type": "code",
   "execution_count": 45,
   "id": "07ccadb8",
   "metadata": {},
   "outputs": [],
   "source": [
    "# Create objects that contain the model summary statistics.\n",
    "\n",
    "rmse = mean_squared_error(Y_test, Y_predicted) # This is the mean squared error\n",
    "r2 = r2_score(Y_test, Y_predicted) # This is the R2 score. "
   ]
  },
  {
   "cell_type": "code",
   "execution_count": 46,
   "id": "bb4760d5",
   "metadata": {},
   "outputs": [
    {
     "name": "stdout",
     "output_type": "stream",
     "text": [
      "Slope: [[0.00782756]]\n",
      "Mean squared error:  9550796916134.977\n",
      "R2 score:  0.1204505949141551\n"
     ]
    }
   ],
   "source": [
    "# Print the model summary statistics. This is where you evaluate the performance of the model.\n",
    "\n",
    "print('Slope:' ,regression.coef_)\n",
    "print('Mean squared error: ', rmse)\n",
    "print('R2 score: ', r2)"
   ]
  },
  {
   "cell_type": "markdown",
   "id": "a7539435",
   "metadata": {},
   "source": [
    "I have a positive relationship, so the coefficient is positive. When the population grows, \n",
    "the number of total cases as well.Unfortunately, \n",
    "the MSE is very high so the regression line is not an exact representation of the data, but remember that a lot of data has been supplemented with the value of 0 and this could have had an impact on current result\n",
    "R2 is 0.1204 which is a very bad fit.\n"
   ]
  },
  {
   "cell_type": "code",
   "execution_count": 47,
   "id": "2b9fbe17",
   "metadata": {},
   "outputs": [
    {
     "data": {
      "text/plain": [
       "array([[ 456347.46809729],\n",
       "       [ 456347.46809729],\n",
       "       [ 404201.7986495 ],\n",
       "       ...,\n",
       "       [2032894.03865238],\n",
       "       [ 378228.47182488],\n",
       "       [ 850671.83723134]])"
      ]
     },
     "execution_count": 47,
     "metadata": {},
     "output_type": "execute_result"
    }
   ],
   "source": [
    "Y_predicted"
   ]
  },
  {
   "cell_type": "code",
   "execution_count": 48,
   "id": "4dd72b41",
   "metadata": {},
   "outputs": [
    {
     "data": {
      "text/html": [
       "<div>\n",
       "<style scoped>\n",
       "    .dataframe tbody tr th:only-of-type {\n",
       "        vertical-align: middle;\n",
       "    }\n",
       "\n",
       "    .dataframe tbody tr th {\n",
       "        vertical-align: top;\n",
       "    }\n",
       "\n",
       "    .dataframe thead th {\n",
       "        text-align: right;\n",
       "    }\n",
       "</style>\n",
       "<table border=\"1\" class=\"dataframe\">\n",
       "  <thead>\n",
       "    <tr style=\"text-align: right;\">\n",
       "      <th></th>\n",
       "      <th>Actual</th>\n",
       "      <th>Predicted</th>\n",
       "    </tr>\n",
       "  </thead>\n",
       "  <tbody>\n",
       "    <tr>\n",
       "      <th>0</th>\n",
       "      <td>743352</td>\n",
       "      <td>4.563475e+05</td>\n",
       "    </tr>\n",
       "    <tr>\n",
       "      <th>1</th>\n",
       "      <td>9281</td>\n",
       "      <td>4.563475e+05</td>\n",
       "    </tr>\n",
       "    <tr>\n",
       "      <th>2</th>\n",
       "      <td>9598</td>\n",
       "      <td>4.042018e+05</td>\n",
       "    </tr>\n",
       "    <tr>\n",
       "      <th>3</th>\n",
       "      <td>4927</td>\n",
       "      <td>4.166531e+05</td>\n",
       "    </tr>\n",
       "    <tr>\n",
       "      <th>4</th>\n",
       "      <td>606492</td>\n",
       "      <td>4.092936e+05</td>\n",
       "    </tr>\n",
       "    <tr>\n",
       "      <th>5</th>\n",
       "      <td>53868</td>\n",
       "      <td>5.800005e+05</td>\n",
       "    </tr>\n",
       "    <tr>\n",
       "      <th>6</th>\n",
       "      <td>222992</td>\n",
       "      <td>4.569104e+05</td>\n",
       "    </tr>\n",
       "    <tr>\n",
       "      <th>7</th>\n",
       "      <td>564778</td>\n",
       "      <td>8.506718e+05</td>\n",
       "    </tr>\n",
       "    <tr>\n",
       "      <th>8</th>\n",
       "      <td>7474</td>\n",
       "      <td>5.800005e+05</td>\n",
       "    </tr>\n",
       "    <tr>\n",
       "      <th>9</th>\n",
       "      <td>4273</td>\n",
       "      <td>4.182681e+05</td>\n",
       "    </tr>\n",
       "    <tr>\n",
       "      <th>10</th>\n",
       "      <td>304411</td>\n",
       "      <td>4.054219e+05</td>\n",
       "    </tr>\n",
       "    <tr>\n",
       "      <th>11</th>\n",
       "      <td>67</td>\n",
       "      <td>3.852091e+05</td>\n",
       "    </tr>\n",
       "    <tr>\n",
       "      <th>12</th>\n",
       "      <td>250572</td>\n",
       "      <td>4.190279e+05</td>\n",
       "    </tr>\n",
       "    <tr>\n",
       "      <th>13</th>\n",
       "      <td>49250</td>\n",
       "      <td>4.707647e+05</td>\n",
       "    </tr>\n",
       "    <tr>\n",
       "      <th>14</th>\n",
       "      <td>44</td>\n",
       "      <td>3.852091e+05</td>\n",
       "    </tr>\n",
       "    <tr>\n",
       "      <th>15</th>\n",
       "      <td>34799691</td>\n",
       "      <td>1.128514e+07</td>\n",
       "    </tr>\n",
       "    <tr>\n",
       "      <th>16</th>\n",
       "      <td>306</td>\n",
       "      <td>1.520277e+06</td>\n",
       "    </tr>\n",
       "    <tr>\n",
       "      <th>17</th>\n",
       "      <td>3</td>\n",
       "      <td>3.836522e+05</td>\n",
       "    </tr>\n",
       "    <tr>\n",
       "      <th>18</th>\n",
       "      <td>2531597</td>\n",
       "      <td>5.278655e+05</td>\n",
       "    </tr>\n",
       "    <tr>\n",
       "      <th>19</th>\n",
       "      <td>27</td>\n",
       "      <td>3.781480e+05</td>\n",
       "    </tr>\n",
       "    <tr>\n",
       "      <th>20</th>\n",
       "      <td>20575218</td>\n",
       "      <td>2.053189e+06</td>\n",
       "    </tr>\n",
       "    <tr>\n",
       "      <th>21</th>\n",
       "      <td>25414</td>\n",
       "      <td>4.171456e+05</td>\n",
       "    </tr>\n",
       "    <tr>\n",
       "      <th>22</th>\n",
       "      <td>5576</td>\n",
       "      <td>4.445056e+05</td>\n",
       "    </tr>\n",
       "    <tr>\n",
       "      <th>23</th>\n",
       "      <td>176839</td>\n",
       "      <td>4.171456e+05</td>\n",
       "    </tr>\n",
       "    <tr>\n",
       "      <th>24</th>\n",
       "      <td>153905</td>\n",
       "      <td>4.569104e+05</td>\n",
       "    </tr>\n",
       "    <tr>\n",
       "      <th>25</th>\n",
       "      <td>1074988</td>\n",
       "      <td>4.691945e+05</td>\n",
       "    </tr>\n",
       "    <tr>\n",
       "      <th>26</th>\n",
       "      <td>68020</td>\n",
       "      <td>6.346994e+05</td>\n",
       "    </tr>\n",
       "    <tr>\n",
       "      <th>27</th>\n",
       "      <td>4275</td>\n",
       "      <td>3.825399e+05</td>\n",
       "    </tr>\n",
       "    <tr>\n",
       "      <th>28</th>\n",
       "      <td>9426</td>\n",
       "      <td>4.014166e+05</td>\n",
       "    </tr>\n",
       "    <tr>\n",
       "      <th>29</th>\n",
       "      <td>355445</td>\n",
       "      <td>4.593193e+05</td>\n",
       "    </tr>\n",
       "  </tbody>\n",
       "</table>\n",
       "</div>"
      ],
      "text/plain": [
       "      Actual     Predicted\n",
       "0     743352  4.563475e+05\n",
       "1       9281  4.563475e+05\n",
       "2       9598  4.042018e+05\n",
       "3       4927  4.166531e+05\n",
       "4     606492  4.092936e+05\n",
       "5      53868  5.800005e+05\n",
       "6     222992  4.569104e+05\n",
       "7     564778  8.506718e+05\n",
       "8       7474  5.800005e+05\n",
       "9       4273  4.182681e+05\n",
       "10    304411  4.054219e+05\n",
       "11        67  3.852091e+05\n",
       "12    250572  4.190279e+05\n",
       "13     49250  4.707647e+05\n",
       "14        44  3.852091e+05\n",
       "15  34799691  1.128514e+07\n",
       "16       306  1.520277e+06\n",
       "17         3  3.836522e+05\n",
       "18   2531597  5.278655e+05\n",
       "19        27  3.781480e+05\n",
       "20  20575218  2.053189e+06\n",
       "21     25414  4.171456e+05\n",
       "22      5576  4.445056e+05\n",
       "23    176839  4.171456e+05\n",
       "24    153905  4.569104e+05\n",
       "25   1074988  4.691945e+05\n",
       "26     68020  6.346994e+05\n",
       "27      4275  3.825399e+05\n",
       "28      9426  4.014166e+05\n",
       "29    355445  4.593193e+05"
      ]
     },
     "execution_count": 48,
     "metadata": {},
     "output_type": "execute_result"
    }
   ],
   "source": [
    "# Create a dataframe comparing the actual and predicted values of Y.\n",
    "\n",
    "data = pd.DataFrame({'Actual': Y_test.flatten(), 'Predicted': Y_predicted.flatten()})\n",
    "data.head(30)"
   ]
  },
  {
   "cell_type": "markdown",
   "id": "4420e85f",
   "metadata": {},
   "source": [
    "##### Compare how the regression fits the training set"
   ]
  },
  {
   "cell_type": "code",
   "execution_count": 53,
   "id": "49fd956f",
   "metadata": {},
   "outputs": [],
   "source": [
    "# Predict.\n",
    "\n",
    "Y_predicted_train = regression.predict(X_train) # This is predicting X_train!"
   ]
  },
  {
   "cell_type": "code",
   "execution_count": 54,
   "id": "40e3bd3b",
   "metadata": {},
   "outputs": [],
   "source": [
    "rmse = mean_squared_error(Y_train, Y_predicted_train)\n",
    "r2 = r2_score(Y_train, Y_predicted_train)"
   ]
  },
  {
   "cell_type": "code",
   "execution_count": 55,
   "id": "280ecef9",
   "metadata": {},
   "outputs": [
    {
     "name": "stdout",
     "output_type": "stream",
     "text": [
      "Slope: [[0.00782756]]\n",
      "Mean squared error:  8573474560463.564\n",
      "R2 score:  0.13409329307769524\n"
     ]
    }
   ],
   "source": [
    "print('Slope:' ,regression.coef_)\n",
    "print('Mean squared error: ', rmse)\n",
    "print('R2 score: ', r2)"
   ]
  },
  {
   "cell_type": "markdown",
   "id": "3a747222",
   "metadata": {},
   "source": [
    "The slope is the same and the R2 and MSE results are slightly better, but not much. The good news is that\n",
    "I didn't overdo my model. Additionally, the information is also that the relationship\n",
    "I explored isn’t purely linear.\n",
    "The conclusion is that the size of the population does not influence the number of cases."
   ]
  },
  {
   "cell_type": "code",
   "execution_count": 57,
   "id": "bb144d2b",
   "metadata": {},
   "outputs": [
    {
     "data": {
      "image/png": "[encoded data removed]",
      "text/plain": [
       "<Figure size 432x288 with 1 Axes>"
      ]
     },
     "metadata": {
      "needs_background": "light"
     },
     "output_type": "display_data"
    }
   ],
   "source": [
    "# Visualizing the training set results.\n",
    "\n",
    "plot_test = plt\n",
    "plot_test.scatter(X_train, Y_train, color='green', s = 15)\n",
    "plot_test.plot(X_train, Y_predicted_train, color='red', linewidth =3)\n",
    "plot_test.title('Population vs Total_Cases (Test set)')\n",
    "plot_test.xlabel('population')\n",
    "plot_test.ylabel('total_cases')\n",
    "plot_test.show()"
   ]
  },
  {
   "cell_type": "markdown",
   "id": "1f27c671",
   "metadata": {},
   "source": [
    "### Population vs new_cases"
   ]
  },
  {
   "cell_type": "code",
   "execution_count": 66,
   "id": "219f2ecd",
   "metadata": {},
   "outputs": [],
   "source": [
    "# Predict.\n",
    "\n",
    "Yy_predicted_train = regression.predict(Xx_train) # This is predicting X_train!"
   ]
  },
  {
   "cell_type": "code",
   "execution_count": 67,
   "id": "4dd7a8be",
   "metadata": {},
   "outputs": [
    {
     "data": {
      "text/plain": [
       "LinearRegression()"
      ]
     },
     "execution_count": 67,
     "metadata": {},
     "output_type": "execute_result"
    }
   ],
   "source": [
    "# Fit the regression object onto the training set.\n",
    "\n",
    "regression.fit(Xx_train, Yy_train)"
   ]
  },
  {
   "cell_type": "code",
   "execution_count": 59,
   "id": "ffb94550",
   "metadata": {},
   "outputs": [],
   "source": [
    "# Predict the values of y using X.\n",
    "\n",
    "Yy_predicted = regression.predict(Xx_test)"
   ]
  },
  {
   "cell_type": "code",
   "execution_count": 64,
   "id": "5831b454",
   "metadata": {},
   "outputs": [
    {
     "data": {
      "image/png": "[encoded data removed]",
      "text/plain": [
       "<Figure size 432x288 with 1 Axes>"
      ]
     },
     "metadata": {
      "needs_background": "light"
     },
     "output_type": "display_data"
    }
   ],
   "source": [
    "# Create a plot that shows the regression line from the model on the test set.\n",
    "\n",
    "plot_test = plt\n",
    "plot_test.scatter(Xx_test, Yy_test, color='gray', s = 15)\n",
    "plot_test.plot(Xx_test, Yy_predicted, color='red', linewidth =3)\n",
    "plot_test.title('Population vs. New_Cases(Test set)')\n",
    "plot_test.xlabel('population') # independent variable\n",
    "plot_test.ylabel('new_cases') # dependent variable\n",
    "plot_test.show()"
   ]
  },
  {
   "cell_type": "code",
   "execution_count": 69,
   "id": "eda4276a",
   "metadata": {},
   "outputs": [],
   "source": [
    "# Create objects that contain the model summary statistics.\n",
    "\n",
    "rmse = mean_squared_error(Yy_test, Yy_predicted) # This is the mean squared error\n",
    "r2 = r2_score(Yy_test, Yy_predicted) # This is the R2 score. "
   ]
  },
  {
   "cell_type": "code",
   "execution_count": 70,
   "id": "19a4820e",
   "metadata": {},
   "outputs": [
    {
     "name": "stdout",
     "output_type": "stream",
     "text": [
      "Slope: [[0.00782756]]\n",
      "Mean squared error:  9550796916134.977\n",
      "R2 score:  0.1204505949141551\n"
     ]
    }
   ],
   "source": [
    "# Print the model summary statistics. This is where you evaluate the performance of the model.\n",
    "\n",
    "print('Slope:' ,regression.coef_)\n",
    "print('Mean squared error: ', rmse)\n",
    "print('R2 score: ', r2)"
   ]
  },
  {
   "cell_type": "markdown",
   "id": "9911ca2f",
   "metadata": {},
   "source": [
    "Here the situation is as in the example above, even the results are identical"
   ]
  },
  {
   "cell_type": "code",
   "execution_count": 71,
   "id": "4bd10e1d",
   "metadata": {},
   "outputs": [
    {
     "data": {
      "text/plain": [
       "array([[ 456347.46809729],\n",
       "       [ 456347.46809729],\n",
       "       [ 404201.7986495 ],\n",
       "       ...,\n",
       "       [2032894.03865238],\n",
       "       [ 378228.47182488],\n",
       "       [ 850671.83723134]])"
      ]
     },
     "execution_count": 71,
     "metadata": {},
     "output_type": "execute_result"
    }
   ],
   "source": [
    "Yy_predicted"
   ]
  },
  {
   "cell_type": "code",
   "execution_count": 72,
   "id": "7519f434",
   "metadata": {},
   "outputs": [
    {
     "data": {
      "text/html": [
       "<div>\n",
       "<style scoped>\n",
       "    .dataframe tbody tr th:only-of-type {\n",
       "        vertical-align: middle;\n",
       "    }\n",
       "\n",
       "    .dataframe tbody tr th {\n",
       "        vertical-align: top;\n",
       "    }\n",
       "\n",
       "    .dataframe thead th {\n",
       "        text-align: right;\n",
       "    }\n",
       "</style>\n",
       "<table border=\"1\" class=\"dataframe\">\n",
       "  <thead>\n",
       "    <tr style=\"text-align: right;\">\n",
       "      <th></th>\n",
       "      <th>Actual</th>\n",
       "      <th>Predicted</th>\n",
       "    </tr>\n",
       "  </thead>\n",
       "  <tbody>\n",
       "    <tr>\n",
       "      <th>0</th>\n",
       "      <td>743352</td>\n",
       "      <td>4.563475e+05</td>\n",
       "    </tr>\n",
       "    <tr>\n",
       "      <th>1</th>\n",
       "      <td>9281</td>\n",
       "      <td>4.563475e+05</td>\n",
       "    </tr>\n",
       "    <tr>\n",
       "      <th>2</th>\n",
       "      <td>9598</td>\n",
       "      <td>4.042018e+05</td>\n",
       "    </tr>\n",
       "    <tr>\n",
       "      <th>3</th>\n",
       "      <td>4927</td>\n",
       "      <td>4.166531e+05</td>\n",
       "    </tr>\n",
       "    <tr>\n",
       "      <th>4</th>\n",
       "      <td>606492</td>\n",
       "      <td>4.092936e+05</td>\n",
       "    </tr>\n",
       "    <tr>\n",
       "      <th>5</th>\n",
       "      <td>53868</td>\n",
       "      <td>5.800005e+05</td>\n",
       "    </tr>\n",
       "    <tr>\n",
       "      <th>6</th>\n",
       "      <td>222992</td>\n",
       "      <td>4.569104e+05</td>\n",
       "    </tr>\n",
       "    <tr>\n",
       "      <th>7</th>\n",
       "      <td>564778</td>\n",
       "      <td>8.506718e+05</td>\n",
       "    </tr>\n",
       "    <tr>\n",
       "      <th>8</th>\n",
       "      <td>7474</td>\n",
       "      <td>5.800005e+05</td>\n",
       "    </tr>\n",
       "    <tr>\n",
       "      <th>9</th>\n",
       "      <td>4273</td>\n",
       "      <td>4.182681e+05</td>\n",
       "    </tr>\n",
       "    <tr>\n",
       "      <th>10</th>\n",
       "      <td>304411</td>\n",
       "      <td>4.054219e+05</td>\n",
       "    </tr>\n",
       "    <tr>\n",
       "      <th>11</th>\n",
       "      <td>67</td>\n",
       "      <td>3.852091e+05</td>\n",
       "    </tr>\n",
       "    <tr>\n",
       "      <th>12</th>\n",
       "      <td>250572</td>\n",
       "      <td>4.190279e+05</td>\n",
       "    </tr>\n",
       "    <tr>\n",
       "      <th>13</th>\n",
       "      <td>49250</td>\n",
       "      <td>4.707647e+05</td>\n",
       "    </tr>\n",
       "    <tr>\n",
       "      <th>14</th>\n",
       "      <td>44</td>\n",
       "      <td>3.852091e+05</td>\n",
       "    </tr>\n",
       "    <tr>\n",
       "      <th>15</th>\n",
       "      <td>34799691</td>\n",
       "      <td>1.128514e+07</td>\n",
       "    </tr>\n",
       "    <tr>\n",
       "      <th>16</th>\n",
       "      <td>306</td>\n",
       "      <td>1.520277e+06</td>\n",
       "    </tr>\n",
       "    <tr>\n",
       "      <th>17</th>\n",
       "      <td>3</td>\n",
       "      <td>3.836522e+05</td>\n",
       "    </tr>\n",
       "    <tr>\n",
       "      <th>18</th>\n",
       "      <td>2531597</td>\n",
       "      <td>5.278655e+05</td>\n",
       "    </tr>\n",
       "    <tr>\n",
       "      <th>19</th>\n",
       "      <td>27</td>\n",
       "      <td>3.781480e+05</td>\n",
       "    </tr>\n",
       "    <tr>\n",
       "      <th>20</th>\n",
       "      <td>20575218</td>\n",
       "      <td>2.053189e+06</td>\n",
       "    </tr>\n",
       "    <tr>\n",
       "      <th>21</th>\n",
       "      <td>25414</td>\n",
       "      <td>4.171456e+05</td>\n",
       "    </tr>\n",
       "    <tr>\n",
       "      <th>22</th>\n",
       "      <td>5576</td>\n",
       "      <td>4.445056e+05</td>\n",
       "    </tr>\n",
       "    <tr>\n",
       "      <th>23</th>\n",
       "      <td>176839</td>\n",
       "      <td>4.171456e+05</td>\n",
       "    </tr>\n",
       "    <tr>\n",
       "      <th>24</th>\n",
       "      <td>153905</td>\n",
       "      <td>4.569104e+05</td>\n",
       "    </tr>\n",
       "    <tr>\n",
       "      <th>25</th>\n",
       "      <td>1074988</td>\n",
       "      <td>4.691945e+05</td>\n",
       "    </tr>\n",
       "    <tr>\n",
       "      <th>26</th>\n",
       "      <td>68020</td>\n",
       "      <td>6.346994e+05</td>\n",
       "    </tr>\n",
       "    <tr>\n",
       "      <th>27</th>\n",
       "      <td>4275</td>\n",
       "      <td>3.825399e+05</td>\n",
       "    </tr>\n",
       "    <tr>\n",
       "      <th>28</th>\n",
       "      <td>9426</td>\n",
       "      <td>4.014166e+05</td>\n",
       "    </tr>\n",
       "    <tr>\n",
       "      <th>29</th>\n",
       "      <td>355445</td>\n",
       "      <td>4.593193e+05</td>\n",
       "    </tr>\n",
       "  </tbody>\n",
       "</table>\n",
       "</div>"
      ],
      "text/plain": [
       "      Actual     Predicted\n",
       "0     743352  4.563475e+05\n",
       "1       9281  4.563475e+05\n",
       "2       9598  4.042018e+05\n",
       "3       4927  4.166531e+05\n",
       "4     606492  4.092936e+05\n",
       "5      53868  5.800005e+05\n",
       "6     222992  4.569104e+05\n",
       "7     564778  8.506718e+05\n",
       "8       7474  5.800005e+05\n",
       "9       4273  4.182681e+05\n",
       "10    304411  4.054219e+05\n",
       "11        67  3.852091e+05\n",
       "12    250572  4.190279e+05\n",
       "13     49250  4.707647e+05\n",
       "14        44  3.852091e+05\n",
       "15  34799691  1.128514e+07\n",
       "16       306  1.520277e+06\n",
       "17         3  3.836522e+05\n",
       "18   2531597  5.278655e+05\n",
       "19        27  3.781480e+05\n",
       "20  20575218  2.053189e+06\n",
       "21     25414  4.171456e+05\n",
       "22      5576  4.445056e+05\n",
       "23    176839  4.171456e+05\n",
       "24    153905  4.569104e+05\n",
       "25   1074988  4.691945e+05\n",
       "26     68020  6.346994e+05\n",
       "27      4275  3.825399e+05\n",
       "28      9426  4.014166e+05\n",
       "29    355445  4.593193e+05"
      ]
     },
     "execution_count": 72,
     "metadata": {},
     "output_type": "execute_result"
    }
   ],
   "source": [
    "# Create a dataframe comparing the actual and predicted values of Yy.\n",
    "\n",
    "data = pd.DataFrame({'Actual': Yy_test.flatten(), 'Predicted': Yy_predicted.flatten()})\n",
    "data.head(30)"
   ]
  },
  {
   "cell_type": "markdown",
   "id": "1d5f193b",
   "metadata": {},
   "source": [
    "#### Compare how the regression fits the training set"
   ]
  },
  {
   "cell_type": "code",
   "execution_count": 73,
   "id": "df2d741e",
   "metadata": {},
   "outputs": [],
   "source": [
    "# Predict.\n",
    "\n",
    "Yy_predicted_train = regression.predict(Xx_train) # This is predicting Xx_train!"
   ]
  },
  {
   "cell_type": "code",
   "execution_count": 74,
   "id": "ccedfeab",
   "metadata": {},
   "outputs": [],
   "source": [
    "rmse = mean_squared_error(Yy_train, Yy_predicted_train)\n",
    "r2 = r2_score(Yy_train, Yy_predicted_train)"
   ]
  },
  {
   "cell_type": "code",
   "execution_count": 75,
   "id": "1a2a1018",
   "metadata": {},
   "outputs": [
    {
     "name": "stdout",
     "output_type": "stream",
     "text": [
      "Slope: [[0.00782756]]\n",
      "Mean squared error:  8573474560463.564\n",
      "R2 score:  0.13409329307769524\n"
     ]
    }
   ],
   "source": [
    "print('Slope:' ,regression.coef_)\n",
    "print('Mean squared error: ', rmse)\n",
    "print('R2 score: ', r2)"
   ]
  },
  {
   "cell_type": "markdown",
   "id": "e3b147ae",
   "metadata": {},
   "source": [
    "The results also improved significantly, but also in this case everything is the same as in the example above."
   ]
  },
  {
   "cell_type": "code",
   "execution_count": 76,
   "id": "78d37378",
   "metadata": {},
   "outputs": [
    {
     "data": {
      "image/png": "[encoded data removed]",
      "text/plain": [
       "<Figure size 432x288 with 1 Axes>"
      ]
     },
     "metadata": {
      "needs_background": "light"
     },
     "output_type": "display_data"
    }
   ],
   "source": [
    "# Visualizing the training set results.\n",
    "\n",
    "plot_test = plt\n",
    "plot_test.scatter(Xx_train, Yy_train, color='blue', s = 15)\n",
    "plot_test.plot(Xx_train, Yy_predicted_train, color='red', linewidth =3)\n",
    "plot_test.title('Population vs New_Cases (Test set)')\n",
    "plot_test.xlabel('population')\n",
    "plot_test.ylabel('New_cases')\n",
    "plot_test.show()"
   ]
  },
  {
   "cell_type": "markdown",
   "id": "21872f2c",
   "metadata": {},
   "source": [
    "#### Population vs total_deaths"
   ]
  },
  {
   "cell_type": "markdown",
   "id": "bafb77cb",
   "metadata": {},
   "source": [
    "###### Regression analysis"
   ]
  },
  {
   "cell_type": "code",
   "execution_count": 77,
   "id": "b00ae0f4",
   "metadata": {},
   "outputs": [
    {
     "data": {
      "text/plain": [
       "LinearRegression()"
      ]
     },
     "execution_count": 77,
     "metadata": {},
     "output_type": "execute_result"
    }
   ],
   "source": [
    "# Fit the regression object onto the training set.\n",
    "\n",
    "regression.fit(Xxx_train, Yyy_train)"
   ]
  },
  {
   "cell_type": "code",
   "execution_count": 78,
   "id": "56b7c50e",
   "metadata": {},
   "outputs": [],
   "source": [
    "# Predict the values of y using X.\n",
    "\n",
    "Yyy_predicted = regression.predict(Xxx_test)"
   ]
  },
  {
   "cell_type": "code",
   "execution_count": 87,
   "id": "215ca049",
   "metadata": {},
   "outputs": [
    {
     "data": {
      "image/png": "[encoded data removed]",
      "text/plain": [
       "<Figure size 432x288 with 1 Axes>"
      ]
     },
     "metadata": {
      "needs_background": "light"
     },
     "output_type": "display_data"
    }
   ],
   "source": [
    "# Create a plot that shows the regression line from the model on the test set.\n",
    "\n",
    "plot_test = plt\n",
    "plot_test.scatter(Xxx_test, Yyy_test, color='blue', s = 15)\n",
    "plot_test.plot(Xxx_test, Yyy_predicted, color='red', linewidth =3)\n",
    "plot_test.title('Population vs. total_deaths(Test set)')\n",
    "plot_test.xlabel('population') # independent variable\n",
    "plot_test.ylabel('total_deaths') # dependent variable\n",
    "plot_test.show()"
   ]
  },
  {
   "cell_type": "code",
   "execution_count": 80,
   "id": "e1b9e328",
   "metadata": {},
   "outputs": [],
   "source": [
    "# Create objects that contain the model summary statistics.\n",
    "\n",
    "rmse = mean_squared_error(Yyy_test, Yyy_predicted) # This is the mean squared error\n",
    "r2 = r2_score(Yyy_test, Yyy_predicted) # This is the R2 score. "
   ]
  },
  {
   "cell_type": "code",
   "execution_count": 81,
   "id": "2a7ab77b",
   "metadata": {},
   "outputs": [
    {
     "name": "stdout",
     "output_type": "stream",
     "text": [
      "Slope: [[0.00011548]]\n",
      "Mean squared error:  3068178737.934051\n",
      "R2 score:  0.08469797029820259\n"
     ]
    }
   ],
   "source": [
    "# Print the model summary statistics. This is where you evaluate the performance of the model.\n",
    "\n",
    "print('Slope:' ,regression.coef_)\n",
    "print('Mean squared error: ', rmse)\n",
    "print('R2 score: ', r2)"
   ]
  },
  {
   "cell_type": "markdown",
   "id": "a987c7d7",
   "metadata": {},
   "source": [
    "The result is positive so the higher the population the higher the death rate. It seems to be as logical as possible.\n",
    "the result is positive so the higher the population, the higher the death rate.\n",
    "Unfortunately, the MSE is very high so the regression line is not an exact representation of the data,\n",
    "but the data has been supplemented with the average of deaths.\n",
    "R2 is also very, is 0.084 so this is a very bad match"
   ]
  },
  {
   "cell_type": "code",
   "execution_count": 82,
   "id": "572ca5c0",
   "metadata": {},
   "outputs": [
    {
     "data": {
      "text/plain": [
       "array([[17129.24065968],\n",
       "       [17129.24065968],\n",
       "       [16359.94976047],\n",
       "       ...,\n",
       "       [40387.60404343],\n",
       "       [15976.77232388],\n",
       "       [22946.60098362]])"
      ]
     },
     "execution_count": 82,
     "metadata": {},
     "output_type": "execute_result"
    }
   ],
   "source": [
    "Yyy_predicted"
   ]
  },
  {
   "cell_type": "code",
   "execution_count": 83,
   "id": "a0a54d15",
   "metadata": {},
   "outputs": [
    {
     "data": {
      "text/html": [
       "<div>\n",
       "<style scoped>\n",
       "    .dataframe tbody tr th:only-of-type {\n",
       "        vertical-align: middle;\n",
       "    }\n",
       "\n",
       "    .dataframe tbody tr th {\n",
       "        vertical-align: top;\n",
       "    }\n",
       "\n",
       "    .dataframe thead th {\n",
       "        text-align: right;\n",
       "    }\n",
       "</style>\n",
       "<table border=\"1\" class=\"dataframe\">\n",
       "  <thead>\n",
       "    <tr style=\"text-align: right;\">\n",
       "      <th></th>\n",
       "      <th>Actual</th>\n",
       "      <th>Predicted</th>\n",
       "    </tr>\n",
       "  </thead>\n",
       "  <tbody>\n",
       "    <tr>\n",
       "      <th>0</th>\n",
       "      <td>2151</td>\n",
       "      <td>17129.240660</td>\n",
       "    </tr>\n",
       "    <tr>\n",
       "      <th>1</th>\n",
       "      <td>64</td>\n",
       "      <td>17129.240660</td>\n",
       "    </tr>\n",
       "    <tr>\n",
       "      <th>2</th>\n",
       "      <td>10</td>\n",
       "      <td>16359.949760</td>\n",
       "    </tr>\n",
       "    <tr>\n",
       "      <th>3</th>\n",
       "      <td>63</td>\n",
       "      <td>16543.641060</td>\n",
       "    </tr>\n",
       "    <tr>\n",
       "      <th>4</th>\n",
       "      <td>8817</td>\n",
       "      <td>16435.067106</td>\n",
       "    </tr>\n",
       "    <tr>\n",
       "      <th>5</th>\n",
       "      <td>1006</td>\n",
       "      <td>18953.460780</td>\n",
       "    </tr>\n",
       "    <tr>\n",
       "      <th>6</th>\n",
       "      <td>5853</td>\n",
       "      <td>17137.544792</td>\n",
       "    </tr>\n",
       "    <tr>\n",
       "      <th>7</th>\n",
       "      <td>37700</td>\n",
       "      <td>22946.600984</td>\n",
       "    </tr>\n",
       "    <tr>\n",
       "      <th>8</th>\n",
       "      <td>102</td>\n",
       "      <td>18953.460780</td>\n",
       "    </tr>\n",
       "    <tr>\n",
       "      <th>9</th>\n",
       "      <td>27</td>\n",
       "      <td>16567.465655</td>\n",
       "    </tr>\n",
       "    <tr>\n",
       "      <th>10</th>\n",
       "      <td>4460</td>\n",
       "      <td>16377.949303</td>\n",
       "    </tr>\n",
       "    <tr>\n",
       "      <th>11</th>\n",
       "      <td>2</td>\n",
       "      <td>16079.756107</td>\n",
       "    </tr>\n",
       "    <tr>\n",
       "      <th>12</th>\n",
       "      <td>2741</td>\n",
       "      <td>16578.675789</td>\n",
       "    </tr>\n",
       "    <tr>\n",
       "      <th>13</th>\n",
       "      <td>1866</td>\n",
       "      <td>17341.934007</td>\n",
       "    </tr>\n",
       "    <tr>\n",
       "      <th>14</th>\n",
       "      <td>2</td>\n",
       "      <td>16079.756107</td>\n",
       "    </tr>\n",
       "    <tr>\n",
       "      <th>15</th>\n",
       "      <td>480290</td>\n",
       "      <td>176883.463089</td>\n",
       "    </tr>\n",
       "    <tr>\n",
       "      <th>16</th>\n",
       "      <td>1</td>\n",
       "      <td>32825.107496</td>\n",
       "    </tr>\n",
       "    <tr>\n",
       "      <th>17</th>\n",
       "      <td>57664</td>\n",
       "      <td>16056.787088</td>\n",
       "    </tr>\n",
       "    <tr>\n",
       "      <th>18</th>\n",
       "      <td>61363</td>\n",
       "      <td>18184.326469</td>\n",
       "    </tr>\n",
       "    <tr>\n",
       "      <th>19</th>\n",
       "      <td>57664</td>\n",
       "      <td>15975.584980</td>\n",
       "    </tr>\n",
       "    <tr>\n",
       "      <th>20</th>\n",
       "      <td>574806</td>\n",
       "      <td>40687.007910</td>\n",
       "    </tr>\n",
       "    <tr>\n",
       "      <th>21</th>\n",
       "      <td>1730</td>\n",
       "      <td>16550.906584</td>\n",
       "    </tr>\n",
       "    <tr>\n",
       "      <th>22</th>\n",
       "      <td>80</td>\n",
       "      <td>16954.540933</td>\n",
       "    </tr>\n",
       "    <tr>\n",
       "      <th>23</th>\n",
       "      <td>2708</td>\n",
       "      <td>16550.906584</td>\n",
       "    </tr>\n",
       "    <tr>\n",
       "      <th>24</th>\n",
       "      <td>3710</td>\n",
       "      <td>17137.544792</td>\n",
       "    </tr>\n",
       "    <tr>\n",
       "      <th>25</th>\n",
       "      <td>25075</td>\n",
       "      <td>17318.768906</td>\n",
       "    </tr>\n",
       "    <tr>\n",
       "      <th>26</th>\n",
       "      <td>364</td>\n",
       "      <td>19760.417919</td>\n",
       "    </tr>\n",
       "    <tr>\n",
       "      <th>27</th>\n",
       "      <td>42</td>\n",
       "      <td>16040.378369</td>\n",
       "    </tr>\n",
       "    <tr>\n",
       "      <th>28</th>\n",
       "      <td>218</td>\n",
       "      <td>16318.860408</td>\n",
       "    </tr>\n",
       "    <tr>\n",
       "      <th>29</th>\n",
       "      <td>10847</td>\n",
       "      <td>17173.083467</td>\n",
       "    </tr>\n",
       "  </tbody>\n",
       "</table>\n",
       "</div>"
      ],
      "text/plain": [
       "    Actual      Predicted\n",
       "0     2151   17129.240660\n",
       "1       64   17129.240660\n",
       "2       10   16359.949760\n",
       "3       63   16543.641060\n",
       "4     8817   16435.067106\n",
       "5     1006   18953.460780\n",
       "6     5853   17137.544792\n",
       "7    37700   22946.600984\n",
       "8      102   18953.460780\n",
       "9       27   16567.465655\n",
       "10    4460   16377.949303\n",
       "11       2   16079.756107\n",
       "12    2741   16578.675789\n",
       "13    1866   17341.934007\n",
       "14       2   16079.756107\n",
       "15  480290  176883.463089\n",
       "16       1   32825.107496\n",
       "17   57664   16056.787088\n",
       "18   61363   18184.326469\n",
       "19   57664   15975.584980\n",
       "20  574806   40687.007910\n",
       "21    1730   16550.906584\n",
       "22      80   16954.540933\n",
       "23    2708   16550.906584\n",
       "24    3710   17137.544792\n",
       "25   25075   17318.768906\n",
       "26     364   19760.417919\n",
       "27      42   16040.378369\n",
       "28     218   16318.860408\n",
       "29   10847   17173.083467"
      ]
     },
     "execution_count": 83,
     "metadata": {},
     "output_type": "execute_result"
    }
   ],
   "source": [
    "# Create a dataframe comparing the actual and predicted values of Y.\n",
    "\n",
    "data = pd.DataFrame({'Actual': Yyy_test.flatten(), 'Predicted': Yyy_predicted.flatten()})\n",
    "data.head(30)"
   ]
  },
  {
   "cell_type": "markdown",
   "id": "381bb31f",
   "metadata": {},
   "source": [
    "#### Compare how the regression fits the training set"
   ]
  },
  {
   "cell_type": "code",
   "execution_count": 84,
   "id": "ed902f27",
   "metadata": {},
   "outputs": [],
   "source": [
    "# Predict.\n",
    "\n",
    "Yyy_predicted_train = regression.predict(Xxx_train) # This is predicting Xxx_train!"
   ]
  },
  {
   "cell_type": "code",
   "execution_count": 85,
   "id": "fe639e73",
   "metadata": {},
   "outputs": [],
   "source": [
    "rmse = mean_squared_error(Yyy_train, Yyy_predicted_train)\n",
    "r2 = r2_score(Yyy_train, Yyy_predicted_train)"
   ]
  },
  {
   "cell_type": "code",
   "execution_count": 86,
   "id": "01a1cf90",
   "metadata": {},
   "outputs": [
    {
     "name": "stdout",
     "output_type": "stream",
     "text": [
      "Slope: [[0.00011548]]\n",
      "Mean squared error:  2952557847.2350416\n",
      "R2 score:  0.08914338339038064\n"
     ]
    }
   ],
   "source": [
    "print('Slope:' ,regression.coef_)\n",
    "print('Mean squared error: ', rmse)\n",
    "print('R2 score: ', r2)"
   ]
  },
  {
   "cell_type": "markdown",
   "id": "4d52d5a0",
   "metadata": {},
   "source": [
    "Slope has remained the same, but MSE and R2 have improved a bit, but still a bad match."
   ]
  },
  {
   "cell_type": "code",
   "execution_count": 88,
   "id": "94b6e731",
   "metadata": {},
   "outputs": [
    {
     "data": {
      "image/png": "[encoded data removed]",
      "text/plain": [
       "<Figure size 432x288 with 1 Axes>"
      ]
     },
     "metadata": {
      "needs_background": "light"
     },
     "output_type": "display_data"
    }
   ],
   "source": [
    "# Visualizing the training set results.\n",
    "\n",
    "plot_test = plt\n",
    "plot_test.scatter(Xxx_train, Yyy_train, color='blue', s = 15)\n",
    "plot_test.plot(X_train, Y_predicted_train, color='red', linewidth =3)\n",
    "plot_test.title('Population vs Total_Deaths (Test set)')\n",
    "plot_test.xlabel('population')\n",
    "plot_test.ylabel('total_deaths')\n",
    "plot_test.show()"
   ]
  },
  {
   "cell_type": "code",
   "execution_count": null,
   "id": "5a33a061",
   "metadata": {},
   "outputs": [],
   "source": []
  }
 ],
 "metadata": {
  "kernelspec": {
   "display_name": "Python 3 (ipykernel)",
   "language": "python",
   "name": "python3"
  },
  "language_info": {
   "codemirror_mode": {
    "name": "ipython",
    "version": 3
   },
   "file_extension": ".py",
   "mimetype": "text/x-python",
   "name": "python",
   "nbconvert_exporter": "python",
   "pygments_lexer": "ipython3",
   "version": "3.9.7"
  }
 },
 "nbformat": 4,
 "nbformat_minor": 5
}
